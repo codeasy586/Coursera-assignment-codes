{
 "cells": [
  {
   "cell_type": "code",
   "execution_count": 4,
   "metadata": {},
   "outputs": [
    {
     "ename": "SyntaxError",
     "evalue": "invalid syntax (<ipython-input-4-e5f488763a8d>, line 2)",
     "output_type": "error",
     "traceback": [
      "\u001b[1;36m  File \u001b[1;32m\"<ipython-input-4-e5f488763a8d>\"\u001b[1;36m, line \u001b[1;32m2\u001b[0m\n\u001b[1;33m    import 'mbox.txt'\u001b[0m\n\u001b[1;37m                    ^\u001b[0m\n\u001b[1;31mSyntaxError\u001b[0m\u001b[1;31m:\u001b[0m invalid syntax\n"
     ]
    }
   ],
   "source": [
    "import sqlite3\n",
    "\n",
    "# creating a database and connecting it with the program\n",
    "conn = sqlite3.connect('newassndb.sqlite')\n",
    "cur = conn.cursor()\n",
    "\n",
    "#dropping tables if exists\n",
    "cur.execute('''\n",
    "DROP TABLE IF EXISTS Counts''')\n",
    "\n",
    "#CREATING RELEVANT table\n",
    "cur.execute('''\n",
    "CREATE TABLE Counts(org TEXT, count INTEGER)''')\n",
    "\n",
    "#opening the file and writing and then reading it from the database\n",
    "fname = input('Enter file name: ')\n",
    "if(len(fname)<1): fname = 'mbox.txt'\n",
    "fh = open(fname)\n",
    "for line in fh:\n",
    "    if not line.startswith('From'): continue\n",
    "    piece = line.split()\n",
    "    if(len(piece)>3):\n",
    "     spl = piece[1]\n",
    "     spl2 = spl.split('@')\n",
    "     org = spl2[1]\n",
    "     cur.execute('SELECT count FROM Counts WHERE org = ? ', (org, ))\n",
    "     row = cur.fetchone()\n",
    "     if row is None:\n",
    "         cur.execute('INSERT INTO Counts(org,count) VALUES(?,1)', (org, ))\n",
    "     else:\n",
    "         cur.execute('UPDATE Counts SET count = count + 1 WHERE org = ? ', (org, ))\n",
    "    else:\n",
    "        continue\n",
    "conn.commit()\n",
    "\n",
    "#finally reading from the database\n",
    "sqlstr = 'SELECT org,count FROM Counts ORDER BY count DESC'\n",
    "for row in cur.execute(sqlstr):\n",
    "    print(str(row[0]),row[1])\n",
    "cur.close()"
   ]
  },
  {
   "cell_type": "code",
   "execution_count": null,
   "metadata": {},
   "outputs": [],
   "source": []
  }
 ],
 "metadata": {
  "kernelspec": {
   "display_name": "Python 3",
   "language": "python",
   "name": "python3"
  },
  "language_info": {
   "codemirror_mode": {
    "name": "ipython",
    "version": 3
   },
   "file_extension": ".py",
   "mimetype": "text/x-python",
   "name": "python",
   "nbconvert_exporter": "python",
   "pygments_lexer": "ipython3",
   "version": "3.7.4"
  }
 },
 "nbformat": 4,
 "nbformat_minor": 2
}
